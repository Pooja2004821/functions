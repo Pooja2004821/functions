{
  "nbformat": 4,
  "nbformat_minor": 0,
  "metadata": {
    "colab": {
      "provenance": []
    },
    "kernelspec": {
      "name": "python3",
      "display_name": "Python 3"
    },
    "language_info": {
      "name": "python"
    }
  },
  "cells": [
    {
      "cell_type": "code",
      "execution_count": null,
      "metadata": {
        "id": "VotFy-s-HI6w"
      },
      "outputs": [],
      "source": []
    },
    {
      "cell_type": "markdown",
      "source": [
        "Q1. What is the difference between a function and a method in Python?\n",
        "- Function :\n",
        "  - A function is independent and not tied to any object.It is defined using the def keyword.You call it by its name, and it can accept arguments and return a value.\n",
        "  - Example:\n",
        "     - def greet(name):\n",
        "          - return f\"Hello, {name}!\"\n",
        "     - print(greet(\"Alice\"))  # Output: Hello, Alice!\n",
        "- Method :\n",
        "  - A method is a function that belongs to an object (typically an instance of a class).It’s called on an object, and the object itself is passed as the first argument (self).Methods can access and modify the object’s state.\n",
        "  - Example:\n",
        "      - class Greeter:\n",
        "          - def greet(self, name):\n",
        "              - return f\"Hello, {name}!\"\n",
        "      - g = Greeter()\n",
        "      - print(g.greet(\"Bob\"))  # Output: Hello, Bob!\n",
        "\n",
        "Q2. Explain the concept of function arguments and parameters in Python.\n",
        "- Parameters:\n",
        "  - These are the names listed in a function definition.They act as placeholders for the values that will be passed to the function.You define them when you create the function.\n",
        "  - Example:\n",
        "     - def greet(name):  # <-- 'name' is a parameter\n",
        "          - print(f\"Hello, {name}!\")\n",
        "- Arguments:\n",
        "  - These are the actual values you pass into the function when you call it.They get assigned to the corresponding parameters.\n",
        "Example:\n",
        "  - greet(\"Alice\")  # <-- \"Alice\" is an argument\n",
        "\n",
        "Q3. What are the different ways to define and call a function in Python?\n",
        "1. Standard Function Definition :\n",
        " - The most common way using def.\n",
        "- Definition:\n",
        " - def greet(name):\n",
        "  - return f\"Hello, {name}!\"\n",
        "- Call:\n",
        " - print(greet(\"Alice\"))\n",
        "2. Function with Default Parameters :\n",
        " - You can provide default values so the argument becomes optional.\n",
        "- Definition:\n",
        " - def greet(name=\"Guest\"):\n",
        "  - return f\"Hello, {name}!\"\n",
        "- Call:\n",
        " - print(greet())           # Hello, Guest!\n",
        " - print(greet(\"Bob\"))      # Hello, Bob!\n",
        "3. Lambda (Anonymous) Functions : Useful for short, one-line functions.\n",
        "- Definition and Call:\n",
        " - add = lambda x, y: x + y\n",
        " - print(add(2, 3))  # Output: 5\n",
        "4. Nested Functions : You can define a function inside another function.\n",
        "- Example :\n",
        "  - def outer():\n",
        "     - def inner():\n",
        "      - return \"Inner Function\"\n",
        "     - return inner()\n",
        "  - print(outer())\n",
        "5. Calling with Positional and Keyword Arguments : You can mix how you pass values.\n",
        "- Definition:\n",
        " - def info(name, age):\n",
        "  - return f\"{name} is {age} years old.\"\n",
        "- Call:\n",
        " - print(info(\"Alice\", 21))            # Positional\n",
        " - print(info(age=21, name=\"Alice\"))   # Keyword\n",
        "6. Using *args and kwargs :  For variable-length arguments.\n",
        "- Definition:\n",
        " - def show_args(*args, **kwargs):\n",
        "  - print(\"Args:\", args)\n",
        "  - print(\"Kwargs:\", kwargs)\n",
        "- Call:\n",
        " - show_args(1, 2, 3, name=\"Alice\", age=21)\n",
        "7. Function as an Object (Passed to Another Function) : Functions can be passed around like variables.\n",
        "- def shout(text):\n",
        " - return text.upper()\n",
        "- def greet(func):\n",
        " - return func(\"hello\")\n",
        "- print(greet(shout))  # Output: HELLO\n",
        "\n",
        "Q4. What is the purpose of the `return` statement in a Python function?\n",
        "- The return statement in Python is used to send a value back from a function to the place where it was called. Think of it like the function giving you an answer after doing some work.\n",
        "- Purpose of return:\n",
        "1. Gives output from a function : Whatever follows return is the value the function gives back.\n",
        "- def add(a, b):\n",
        " - return a + b\n",
        "- result = add(3, 4)\n",
        "- print(result)  # Output: 7\n",
        "2. Ends the function : When return runs, the function exits immediately.\n",
        "- def check():\n",
        " - return \"Done\"\n",
        " - print(\"This won't run\")\n",
        "3. Can return multiple values (as a tuple)\n",
        "- def get_info():\n",
        " - name = \"Alice\"\n",
        " - age = 21\n",
        " - return name, age\n",
        "- n, a = get_info()\n",
        "- print(n, a)  # Output: Alice 21\n",
        "4. Can return any data type : Numbers, strings, lists, dicts, objects, even other functions!\n",
        "- If you don’t use return : The function returns None by default.\n",
        "  - def say_hello():\n",
        "      - print(\"Hello\")\n",
        "  - result = say_hello()\n",
        "  - print(result)  # Output: Hello \\n None\n",
        "\n",
        "Q5. What are iterators in Python and how do they differ from iterables?\n",
        "- Iterable : An iterable is any object that can be looped over (used in a for loop). It has an internal method called __iter__() that returns an iterator.\n",
        " - Examples of iterables:list, tuple, str, set, dict, etc.\n",
        "  - my_list = [1, 2, 3]\n",
        "  - for item in my_list:       # Works because lists are iterable\n",
        "   - print(item)\n",
        "- Iterator : An iterator is an object that keeps track of where it is during iteration. It implements both:\n",
        " - __iter__() → returns itself\n",
        " - __next__() → returns the next item, or raises StopIteration when done.\n",
        " - You can get an iterator from an iterable by using iter().\n",
        "  - my_list = [1, 2, 3]\n",
        "  - it = iter(my_list)     # Now it's an iterator\n",
        "  - print(next(it))  # 1\n",
        "  - print(next(it))  # 2\n",
        "  - print(next(it))  # 3\n",
        "  - #print(next(it))  # Raises StopIteration\n",
        "- Key Differences :\n",
        " - Feature......................Iterable................................Iterator\n",
        "   - Can be looped................Yes...................................Yes\n",
        "   - Needs __iter__...............Yes.........................Yes (returns self)\n",
        "   - Has __next__\t................No....................................Yes\n",
        "   - Examples..........List, String, Tuple..............What you get from iter()\n",
        "   - One-time use?............Can reuse..................One-time (unless reset)\n",
        "\n",
        "Q 6. Explain the concept of generators in Python and how they are defined.\n",
        "- What is a Generator?\n",
        " - A generator is a special type of iterator that yields items one at a time using the yield keyword, instead of returning them all at once like a list.It remembers its state between each yield, so it can resume where it left off.Generators are lazy — they don’t compute values until you ask for them.\n",
        "- How to Define a Generator :\n",
        "1. Using a Function with yield:\n",
        "- def count_up_to(n):\n",
        " - count = 1\n",
        " - while count <= n:\n",
        "  - yield count\n",
        "  - count += 1\n",
        "- #Now calling it:\n",
        "- gen = count_up_to(3)\n",
        "- print(next(gen))  # 1\n",
        "- print(next(gen))  # 2\n",
        "- print(next(gen))  # 3\n",
        "- #next(gen)       # Raises StopIteration\n",
        "2. Generator Expressions (like list comprehensions, but with ()) :\n",
        "- gen = (x * x for x in range(5))\n",
        "- print(next(gen))  # 0\n",
        "- print(next(gen))  # 1\n",
        "\n",
        "Q7. What are the advantages of using generators over regular functions?\n",
        "- Generators come with a bunch of powerful advantages, especially when you're working with large datasets, streams, or infinite sequences. Here's a breakdown of why you'd use generators instead of regular functions:\n",
        "1. Memory Efficiency : Generators don’t store all values in memory at once — they yield one value at a time.\n",
        "- Example:\n",
        " - def squares_gen(n):\n",
        "  - for i in range(n):\n",
        "   - yield i * i\n",
        "- Compare that to:\n",
        "- def squares_list(n):\n",
        " - return [i * i for i in range(n)]\n",
        "- The generator version is much better for large n, like 1_000_000, because it doesn’t build the full list in memory.\n",
        "2. Lazy Evaluation : Generators compute values only when you need them — nothing is calculated until you next() it.\n",
        "- This is perfect for:\n",
        " - Large files (reading line by line)\n",
        " - Streams of data\n",
        " - Live sensor data\n",
        "3. Infinite Sequences : Generators can keep producing values forever, because they don’t pre-compute everything.\n",
        "- def infinite_count(start=0):\n",
        " - while True:\n",
        "  - yield start\n",
        "  - start += 1\n",
        "- Try doing that with a list — your computer will run out of memory!\n",
        "4. Clean, Readable Code : Generators often make code simpler and more readable than managing state manually.\n",
        "- #Generator version\n",
        "  - def countdown(n):\n",
        "    -  while n > 0:\n",
        "        - yield n\n",
        "        - n -= 1\n",
        "- Compare that to writing a class with __iter__() and __next__() — way more boilerplate!\n",
        "5. Works Well with for Loops and Comprehensions : You can use generators directly in loops:\n",
        "- for value in countdown(5):\n",
        "  -  print(value)\n",
        "\n",
        "Q8. What is a lambda function in Python and when is it typically used?\n",
        "- What is a Lambda Function?\n",
        " - A lambda function is an anonymous, one-line function defined using the lambda keyword instead of def.\n",
        " - Syntax:\n",
        "  - lambda arguments: expression\n",
        " - Example:\n",
        "  - square = lambda x: x * x\n",
        "  - print(square(4))  # Output: 16\n",
        "- When Is a Lambda Function Typically Used?\n",
        " - They're most useful when you need a short function for a short time, especially in places where defining a full def function would be overkill.\n",
        "- Common Use Cases :\n",
        " - Used with map() (apply function to each item in a list):\n",
        "   - nums = [1, 2, 3, 4]\n",
        "   - squares = list(map(lambda x: x ** 2, nums))\n",
        "   - print(squares)  # [1, 4, 9, 16]\n",
        " - Used with filter() (filter items based on a condition):\n",
        "   - evens = list(filter(lambda x: x % 2 == 0, nums))\n",
        "   - print(evens)  # [2, 4]\n",
        " - Used with sorted() (custom sorting):\n",
        "   - names = [\"Alice\", \"Bob\", \"Charlie\"]\n",
        "   - sorted_names = sorted(names, key=lambda name: len(name))\n",
        "   - print(sorted_names)  # ['Bob', 'Alice', 'Charlie']\n",
        " - Used with GUI, event handling, or frameworks (quick callbacks):\n",
        "   - button.on_click(lambda: print(\"Clicked!\"))\n",
        "\n",
        "Q9. Explain the purpose and usage of the `map()` function in Python.\n",
        "- The map() function in Python is a very useful tool when you want to apply a function to each item in an iterable (like a list, tuple, or string). It's typically used to transform data in a concise and functional way.\n",
        "- Purpose of map() : The purpose of map() is to apply a given function to each item of an iterable (or multiple iterables) and return an iterator that produces the transformed items.\n",
        " - Syntax:\n",
        "  - map(function, iterable)\n",
        "  - function: The function that will be applied to each item.\n",
        " - iterable: The iterable (like a list, tuple, etc.) whose items you want to transform.\n",
        "- How map() Works :\n",
        " - Step 1: It takes a function and an iterable. Step 2: It applies the function to each element of the iterable. Step 3: It returns an iterator that can be looped over to get the results.\n",
        " - Examples of Using map()\n",
        "   1. Using map() with a Lambda Function : You can apply a simple transformation like squaring each number in a list using lambda:\n",
        "    - nums = [1, 2, 3, 4]\n",
        "    - squared = map(lambda x: x ** 2, nums)\n",
        "    - #Convert map object to list to see the result\n",
        "    - print(list(squared))  # Output: [1, 4, 9, 16]\n",
        "   2. Using map() with a Regular Function : You can also use a regular function instead of a lambda.\n",
        "    - def double(x):\n",
        "      - return x * 2\n",
        "    - nums = [1, 2, 3, 4]\n",
        "    - doubled = map(double, nums)\n",
        "    - print(list(doubled))  # Output: [2, 4, 6, 8]\n",
        "   3. Using map() with Multiple Iterables : If you have multiple iterables, map() can take more than one iterable and apply the function to the items from all of them simultaneously (pairing elements together):\n",
        "    - nums1 = [1, 2, 3]\n",
        "    - nums2 = [4, 5, 6]\n",
        "    - #Adding corresponding elements\n",
        "    - result = map(lambda x, y: x + y, nums1, nums2)\n",
        "    - print(list(result))  # Output: [5, 7, 9]\n",
        "- Key Benefits of Using map() :\n",
        "  - Compact and Concise: Helps in applying functions to each element in an iterable without needing a loop.\n",
        "  - Cleaner Code: Reduces the need for boilerplate code, making your transformations more readable.\n",
        "  -  Efficient: Since it returns an iterator, it computes values lazily, making it memory-efficient for large data sets.\n",
        "\n",
        "Q 10. What is the difference between `map()`, `reduce()`, and `filter()` functions in Python?\n",
        "1. map() Function : The map() function applies a given function to each item in an iterable (or multiple iterables) and returns a new iterable (typically an iterator) of the results.\n",
        "- Purpose: Transform each element of the iterable by applying a function to them.\n",
        "- Returns: An iterator of transformed items.\n",
        "- Example:\n",
        " - nums = [1, 2, 3, 4]\n",
        " - squared = map(lambda x: x ** 2, nums)\n",
        " - print(list(squared))  # Output: [1, 4, 9, 16]\n",
        "2. reduce() Function : The reduce() function is part of the functools module and works by reducing a sequence of elements to a single value by applying a binary function cumulatively to the items.\n",
        "- Purpose: Cumulatively combine items of an iterable into a single result using a binary function.\n",
        "- Returns: A single value (not an iterable).\n",
        "- Example:\n",
        " - from functools import reduce\n",
        " - nums = [1, 2, 3, 4]\n",
        " - result = reduce(lambda x, y: x + y, nums)\n",
        " - print(result)  # Output: 10 (1 + 2 + 3 + 4)\n",
        "- reduce() applies the lambda function to the first two elements of the list, then applies it to the result and the next element, and so on until only one value remains.\n",
        "3. filter() Function : The filter() function filters an iterable by applying a function that returns True or False to each item, keeping only the items that evaluate to True.\n",
        "- Purpose: Filter elements of an iterable based on a condition (returning only those that pass).\n",
        "- Returns: An iterator of items that satisfy the condition.\n",
        "- Example:\n",
        " - nums = [1, 2, 3, 4, 5, 6]\n",
        " - evens = filter(lambda x: x % 2 == 0, nums)\n",
        " - print(list(evens))  # Output: [2, 4, 6]\n",
        "\n",
        "Q11. Using pen & Paper write the internal mechanism for sum operation using  reduce function on this given  list:[47,11,42,13];\n",
        "- image in google docs\n",
        "\n",
        "\n",
        "\n",
        "\n"
      ],
      "metadata": {
        "id": "aKQHK3xzID_Y"
      }
    },
    {
      "cell_type": "code",
      "source": [
        "#Practical Questions\n",
        "#Q1. Write a Python function that takes a list of numbers as input and returns the sum of all even numbers in the list.\n",
        "def sum_even_numbers(numbers):\n",
        "    return sum(num for num in numbers if num % 2 == 0)\n",
        "\n",
        "# Get user input\n",
        "user_input = input(\"Enter numbers separated by commas: \")\n",
        "\n",
        "# Convert input to a list of integers\n",
        "number_list = [int(x.strip()) for x in user_input.split(\",\")]\n",
        "\n",
        "# Call the function and print the result\n",
        "result = sum_even_numbers(number_list)\n",
        "print(\"Sum of even numbers:\", result)\n"
      ],
      "metadata": {
        "colab": {
          "base_uri": "https://localhost:8080/"
        },
        "id": "osqjK4jIZzzz",
        "outputId": "081e5e49-222a-4792-debc-649973a6d64a"
      },
      "execution_count": 5,
      "outputs": [
        {
          "output_type": "stream",
          "name": "stdout",
          "text": [
            "Enter numbers separated by commas: 3, 5, 6\n",
            "Sum of even numbers: 6\n"
          ]
        }
      ]
    },
    {
      "cell_type": "code",
      "source": [
        "#Q2. Create a Python function that accepts a string and returns the reverse of that string.\n",
        "def reverse_string(text):\n",
        "    return text[::-1]\n",
        "\n",
        "# Get user input\n",
        "user_input = input(\"Enter a string: \")\n",
        "\n",
        "# Call the function and print the result\n",
        "reversed_text = reverse_string(user_input)\n",
        "print(\"Reversed string:\", reversed_text)\n"
      ],
      "metadata": {
        "colab": {
          "base_uri": "https://localhost:8080/"
        },
        "id": "RlekWvFObA60",
        "outputId": "a7fe5c65-34d5-4216-8896-c3536a6c387a"
      },
      "execution_count": 6,
      "outputs": [
        {
          "output_type": "stream",
          "name": "stdout",
          "text": [
            "Enter a string: JAAT\n",
            "Reversed string: TAAJ\n"
          ]
        }
      ]
    },
    {
      "cell_type": "code",
      "source": [
        "#Q3. Implement a Python function that takes a list of integers and returns a new list containing the squares of each numbers.\n",
        "def square_numbers(numbers):\n",
        "    return [num ** 2 for num in numbers]\n",
        "\n",
        "# Get user input\n",
        "user_input = input(\"Enter integers separated by commas: \")\n",
        "\n",
        "# Convert input string to a list of integers\n",
        "number_list = [int(x.strip()) for x in user_input.split(\",\")]\n",
        "\n",
        "# Get squared numbers\n",
        "squares = square_numbers(number_list)\n",
        "\n",
        "print(\"Squares:\", squares)\n"
      ],
      "metadata": {
        "colab": {
          "base_uri": "https://localhost:8080/"
        },
        "id": "3aS8tnqPbL0a",
        "outputId": "c7b6d830-010d-4cc3-8589-6699c6abc562"
      },
      "execution_count": 7,
      "outputs": [
        {
          "output_type": "stream",
          "name": "stdout",
          "text": [
            "Enter integers separated by commas: 6, 8, 12\n",
            "Squares: [36, 64, 144]\n"
          ]
        }
      ]
    },
    {
      "cell_type": "code",
      "source": [
        "#Q 4. Write a Python function that checks if a given number is prime or not from 1 to 200.\n",
        "def is_prime(n):\n",
        "    if n <= 1:\n",
        "        return False\n",
        "    for i in range(2, int(n**0.5) + 1):\n",
        "        if n % i == 0:\n",
        "            return False\n",
        "    return True\n",
        "\n",
        "# Get user input\n",
        "num = int(input(\"Enter a number between 1 and 200: \"))\n",
        "\n",
        "if 1 <= num <= 200:\n",
        "    if is_prime(num):\n",
        "        print(f\"{num} is a prime number.\")\n",
        "    else:\n",
        "        print(f\"{num} is not a prime number.\")\n",
        "else:\n",
        "    print(\"Number out of range. Please enter a number between 1 and 200.\")\n"
      ],
      "metadata": {
        "colab": {
          "base_uri": "https://localhost:8080/"
        },
        "id": "-QLqCfe0bd8J",
        "outputId": "ddd2f570-e1a3-44ed-f838-415cc18416aa"
      },
      "execution_count": 9,
      "outputs": [
        {
          "output_type": "stream",
          "name": "stdout",
          "text": [
            "Enter a number between 1 and 200: 77\n",
            "77 is not a prime number.\n"
          ]
        }
      ]
    },
    {
      "cell_type": "code",
      "source": [
        "#Q 5. Create an iterator class in Python that generates the Fibonacci sequence up to a specified number of terms.\n",
        "class FibonacciIterator:\n",
        "    def __init__(self, max_terms):\n",
        "        self.max_terms = max_terms\n",
        "        self.count = 0\n",
        "        self.a = 0\n",
        "        self.b = 1\n",
        "\n",
        "    def __iter__(self):\n",
        "        return self\n",
        "\n",
        "    def __next__(self):\n",
        "        if self.count >= self.max_terms:\n",
        "            raise StopIteration\n",
        "        if self.count == 0:\n",
        "            self.count += 1\n",
        "            return 0\n",
        "        elif self.count == 1:\n",
        "            self.count += 1\n",
        "            return 1\n",
        "        else:\n",
        "            self.count += 1\n",
        "            self.a, self.b = self.b, self.a + self.b\n",
        "            return self.a\n",
        "#OR\n",
        "class FibonacciIterator:\n",
        "    def __init__(self, max_terms):\n",
        "        self.max_terms = max_terms\n",
        "        self.count = 0\n",
        "        self.a = 0\n",
        "        self.b = 1\n",
        "\n",
        "    def __iter__(self):\n",
        "        return self\n",
        "\n",
        "    def __next__(self):\n",
        "        if self.count >= self.max_terms:\n",
        "            raise StopIteration\n",
        "        if self.count == 0:\n",
        "            self.count += 1\n",
        "            return 0\n",
        "        elif self.count == 1:\n",
        "            self.count += 1\n",
        "            return 1\n",
        "        else:\n",
        "            self.count += 1\n",
        "            self.a, self.b = self.b, self.a + self.b\n",
        "            return self.a\n",
        "\n",
        "# ✅ User Input\n",
        "try:\n",
        "    n = int(input(\"Enter the number of Fibonacci terms to generate: \"))\n",
        "    if n <= 0:\n",
        "        print(\"Please enter a positive integer.\")\n",
        "    else:\n",
        "        print(\"Fibonacci Sequence:\")\n",
        "        for num in FibonacciIterator(n):\n",
        "            print(num, end=\" \")\n",
        "except ValueError:\n",
        "    print(\"Invalid input. Please enter an integer.\")\n"
      ],
      "metadata": {
        "colab": {
          "base_uri": "https://localhost:8080/"
        },
        "id": "I5rITqI9bxYM",
        "outputId": "14de1ee6-6e77-4667-905a-e0658a56eb19"
      },
      "execution_count": 11,
      "outputs": [
        {
          "output_type": "stream",
          "name": "stdout",
          "text": [
            "Enter the number of Fibonacci terms to generate: 6\n",
            "Fibonacci Sequence:\n",
            "0 1 1 1 2 3 "
          ]
        }
      ]
    },
    {
      "cell_type": "code",
      "source": [
        "#Q6. Write a generator function in Python that yields the powers of 2 up to a given exponent.\n",
        "def powers_of_two(exponent):\n",
        "    for i in range(exponent + 1):\n",
        "        yield 2 ** i\n",
        "n = int(input(\"Enter the exponent value: \"))\n",
        "\n",
        "print(\"Powers of 2 up to 2^\", n)\n",
        "for power in powers_of_two(n):\n",
        "    print(power, end=\" \")\n"
      ],
      "metadata": {
        "colab": {
          "base_uri": "https://localhost:8080/"
        },
        "id": "PmoVtscLcWaO",
        "outputId": "da7d0131-fab5-447b-b93d-4beb4476d875"
      },
      "execution_count": 12,
      "outputs": [
        {
          "output_type": "stream",
          "name": "stdout",
          "text": [
            "Enter the exponent value: 4\n",
            "Powers of 2 up to 2^ 4\n",
            "1 2 4 8 16 "
          ]
        }
      ]
    },
    {
      "cell_type": "code",
      "source": [
        "#Q 7. Implement a generator function that reads a file line by line and yields each line as a string.\n",
        "def read_file_line_by_line(file_name):\n",
        "    with open(file_name, 'r') as file:\n",
        "        for line in file:\n",
        "            yield line.strip()  # .strip() removes the newline at the end of each line\n",
        "file_name = input(\"Enter the file name to read: \")\n",
        "\n",
        "try:\n",
        "    # Using the generator function\n",
        "    for line in read_file_line_by_line(file_name):\n",
        "        print(line)\n",
        "except FileNotFoundError:\n",
        "    print(f\"The file {file_name} does not exist.\")\n"
      ],
      "metadata": {
        "id": "TghBRYozcmjN"
      },
      "execution_count": null,
      "outputs": []
    },
    {
      "cell_type": "code",
      "source": [
        "#Q8. Use a lambda function in Python to sort a list of tuples based on the second element of each tuple.\n",
        "# List of tuples\n",
        "data = [(1, 5), (3, 1), (2, 4), (4, 2)]\n",
        "\n",
        "# Sort using lambda function based on the second element of each tuple\n",
        "sorted_data = sorted(data, key=lambda x: x[1])\n",
        "\n",
        "# Output the sorted list\n",
        "print(sorted_data)\n"
      ],
      "metadata": {
        "colab": {
          "base_uri": "https://localhost:8080/"
        },
        "id": "D0YTMNc1c_NV",
        "outputId": "b24af57b-1c55-4d47-e794-03087c799351"
      },
      "execution_count": 15,
      "outputs": [
        {
          "output_type": "stream",
          "name": "stdout",
          "text": [
            "[(3, 1), (4, 2), (2, 4), (1, 5)]\n"
          ]
        }
      ]
    },
    {
      "cell_type": "code",
      "source": [
        "#Q 9. Write a Python program that uses `map()` to convert a list of temperatures from Celsius to Fahrenheit.\n",
        "# Function to convert Celsius to Fahrenheit\n",
        "def celsius_to_fahrenheit(celsius):\n",
        "    return (celsius * 9/5) + 32\n",
        "\n",
        "# List of temperatures in Celsius\n",
        "celsius_temperatures = [0, 10, 20, 30, 40, 50]\n",
        "\n",
        "# Use map() to apply the conversion function to each element in the list\n",
        "fahrenheit_temperatures = list(map(celsius_to_fahrenheit, celsius_temperatures))\n",
        "\n",
        "# Print the result\n",
        "print(\"Celsius temperatures:\", celsius_temperatures)\n",
        "print(\"Converted to Fahrenheit:\", fahrenheit_temperatures)\n"
      ],
      "metadata": {
        "colab": {
          "base_uri": "https://localhost:8080/"
        },
        "id": "6VHgAblxdTyq",
        "outputId": "cccbde3a-14f2-415d-d8e5-dee4e3328ad1"
      },
      "execution_count": 16,
      "outputs": [
        {
          "output_type": "stream",
          "name": "stdout",
          "text": [
            "Celsius temperatures: [0, 10, 20, 30, 40, 50]\n",
            "Converted to Fahrenheit: [32.0, 50.0, 68.0, 86.0, 104.0, 122.0]\n"
          ]
        }
      ]
    },
    {
      "cell_type": "code",
      "source": [
        "#Q 10. Create a Python program that uses `filter()` to remove all the vowels from a given string.\n",
        "# Function to check if a character is not a vowel\n",
        "def is_not_vowel(char):\n",
        "    return char.lower() not in 'aeiou'\n",
        "\n",
        "# Input string\n",
        "input_string = input(\"Enter a string: \")\n",
        "\n",
        "# Use filter() to remove vowels\n",
        "filtered_string = ''.join(filter(is_not_vowel, input_string))\n",
        "\n",
        "# Output the result\n",
        "print(\"String after removing vowels:\", filtered_string)\n"
      ],
      "metadata": {
        "colab": {
          "base_uri": "https://localhost:8080/"
        },
        "id": "Li2DtiYcdfBm",
        "outputId": "0b3c8ed7-704a-4bfc-f347-797dc4a8c5de"
      },
      "execution_count": 17,
      "outputs": [
        {
          "output_type": "stream",
          "name": "stdout",
          "text": [
            "Enter a string: DESHWAL\n",
            "String after removing vowels: DSHWL\n"
          ]
        }
      ]
    },
    {
      "cell_type": "code",
      "source": [
        "\"\"\"Q 11) Imagine an accounting routine used in a book shop. It works on a list with sublists, which look like this:\n",
        " Write a Python program, which returns a list with 2-tuples. Each tuple consists of the order number and the\n",
        "product of the price per item and the quantity. The product should be increased by 10,- € if the value of the\n",
        "order is smaller than 100,00 €.\n",
        " Write a Python program using lambda and map\"\"\"\n",
        " # Data: Each sublist contains Order number, Book title, Author, Quantity, Price per item\n",
        "orders = [\n",
        "    [34587, 'Learning Python', 'Mark Lutz', 4, 40.95],\n",
        "    [98762, 'Programming Python', 'Mark Lutz', 5, 56.80],\n",
        "    [77226, 'Head First Python', 'Paul Barry', 3, 32.95],\n",
        "    [88112, 'Einfuhrung in Python3', 'Bernd Klien', 3, 24.99]\n",
        "]\n",
        "\n",
        "# Function to compute the total and apply the +10€ rule if total < 100€\n",
        "def calculate_order_value(order):\n",
        "    order_number = order[0]\n",
        "    quantity = order[3]\n",
        "    price_per_item = order[4]\n",
        "\n",
        "    # Calculate the total order value\n",
        "    total_value = quantity * price_per_item\n",
        "\n",
        "    # If total is less than 100€, add 10€\n",
        "    if total_value < 100:\n",
        "        total_value += 10\n",
        "\n",
        "    # Return a tuple of (order_number, total_value)\n",
        "    return (order_number, total_value)\n",
        "\n",
        "# Apply the function using map() and lambda\n",
        "result = list(map(lambda order: (order[0], (order[3] * order[4] + 10) if (order[3] * order[4]) < 100 else order[3] * order[4]), orders))\n",
        "\n",
        "# Output the result\n",
        "print(result)\n"
      ],
      "metadata": {
        "colab": {
          "base_uri": "https://localhost:8080/"
        },
        "id": "1kv1BuUOdrDy",
        "outputId": "b732b416-f128-4337-f801-d406f367872c"
      },
      "execution_count": 18,
      "outputs": [
        {
          "output_type": "stream",
          "name": "stdout",
          "text": [
            "[(34587, 163.8), (98762, 284.0), (77226, 108.85000000000001), (88112, 84.97)]\n"
          ]
        }
      ]
    },
    {
      "cell_type": "markdown",
      "source": [],
      "metadata": {
        "id": "wW4a1Uq1HL-H"
      }
    }
  ]
}